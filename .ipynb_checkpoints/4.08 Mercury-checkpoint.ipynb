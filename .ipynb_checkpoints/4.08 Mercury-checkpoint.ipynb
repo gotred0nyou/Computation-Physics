{
 "cells": [
  {
   "cell_type": "code",
   "execution_count": 2,
   "id": "32f90cf6",
   "metadata": {},
   "outputs": [
    {
     "name": "stdout",
     "output_type": "stream",
     "text": [
      "Using matplotlib backend: Qt5Agg\n"
     ]
    }
   ],
   "source": [
    "#Program to create Figure 4.8 from Giordano\n",
    "\n",
    "import pandas as pd\n",
    "from matplotlib import pyplot as plt\n",
    "from math import cos,sin,exp,sqrt,pi,radians\n",
    "import sys\n",
    "\n",
    "#Lists of x and y positions\n",
    "xlist=[]\n",
    "ylist=[]\n",
    "xmaxlist=[]\n",
    "ymaxlist=[]\n",
    "\n",
    "#Variables\n",
    "x = 0.475 #x position in AU\n",
    "y = 0 #y position in AU\n",
    "vx = 0 #x velocity\n",
    "vy = 8.2 #y velocity\n",
    "dt = 0.0001 #time step in years\n",
    "alpha = 0.01\n",
    "GMs = 4*(pi**2)\n",
    "Mm = 2.4 * 10**23\n",
    "\n",
    "xlist.append(x)\n",
    "ylist.append(y)\n",
    "\n",
    "#Euler-Cromer method to calculate x and y positions and velocities\n",
    "for i in range(10450):\n",
    "    r = sqrt(x**2 + y**2)\n",
    "    F = (GMs*Mm)/(r**2) * (1+ alpha/(r**2))\n",
    "    vx -= (4*(pi**2)*x*dt)/(r**3) + (4*(pi**2)*alpha*x*dt)/(r**5)\n",
    "    x += vx*dt\n",
    "    vy -= (4*(pi**2)*y*dt)/(r**3) + (4*(pi**2)*alpha*y*dt)/(r**5)\n",
    "    y += vy*dt\n",
    "    xlist.append(x)\n",
    "    ylist.append(y)\n",
    "    if r >= 0.475: #Checks for maximum distance of Mercury to generate the precession lines\n",
    "        xmaxlist.append(x)\n",
    "        ymaxlist.append(y)\n",
    "\n",
    "point1 = [0.414, 0.233]\n",
    "point2 = [0.244, 0.4075]\n",
    "point3 = [0.01, 0.475]\n",
    "point4 = [-0.2265, 0.4175]\n",
    "\n",
    "#Creates a plot with both sets of data\n",
    "%matplotlib\n",
    "plt.plot(xlist, ylist, 'k-', lw=1.2)\n",
    "plt.plot([0, point1[0]], [0, point1[1]], 'k-', lw=1.2)\n",
    "plt.plot([0, point2[0]], [0, point2[1]], 'k-', lw=1.2)\n",
    "plt.plot([0, point3[0]], [0, point3[1]], 'k-', lw=1.2)\n",
    "plt.plot([0, point4[0]], [0, point4[1]], 'k-', lw=1.2)\n",
    "plt.yticks([-0.58,-0.5,0,0.5,0.58], ['','-0.5','0','0.5',''])\n",
    "plt.xticks([-0.58,-0.5,0,0.5,0.58], ['','-0.5','0','0.5',''])\n",
    "plt.title(\"Simulation of the precession of Mercury\")\n",
    "plt.xlabel(\"x (AU)\")\n",
    "plt.ylabel(\"y (AU)\")\n",
    "plt.text(-0.1, 0.49, \"\\u03B1 = 0.01\", fontsize=11, horizontalalignment='left', verticalalignment='bottom')\n",
    "plt.tick_params(direction = 'in', bottom=True, top=True, left=True, right=True)\n",
    "plt.tick_params(labelbottom=True, labeltop=False, labelleft=True, labelright=False)\n",
    "ax = plt.gca()\n",
    "ax.set_aspect(1)\n",
    "plt.show()"
   ]
  },
  {
   "cell_type": "code",
   "execution_count": null,
   "id": "994059d7",
   "metadata": {},
   "outputs": [],
   "source": []
  }
 ],
 "metadata": {
  "kernelspec": {
   "display_name": "Python 3",
   "language": "python",
   "name": "python3"
  },
  "language_info": {
   "codemirror_mode": {
    "name": "ipython",
    "version": 3
   },
   "file_extension": ".py",
   "mimetype": "text/x-python",
   "name": "python",
   "nbconvert_exporter": "python",
   "pygments_lexer": "ipython3",
   "version": "3.8.8"
  }
 },
 "nbformat": 4,
 "nbformat_minor": 5
}
