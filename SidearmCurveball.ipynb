{
 "cells": [
  {
   "cell_type": "code",
   "execution_count": 53,
   "metadata": {},
   "outputs": [],
   "source": [
    "#Program to create Figure 2.9 from Giordano#\n",
    "\n",
    "from math import cos,sin,exp,sqrt,pi,radians\n",
    "from matplotlib import pyplot as plt\n",
    "\n",
    "#lists to store data from calculations\n",
    "xlist = []\n",
    "ylist = []\n",
    "zlist = []\n",
    "\n",
    "#Constants and initial conditions in mks units\n",
    "dt = 0.01 #time step\n",
    "g = 9.8 #gravity\n",
    "delta = 5 \n",
    "vd = 35\n",
    "omega = 60*pi #rate of rotation\n",
    "Snaughtm = 0.00041 #Snaught over m ratio\n",
    "x = 0 #inital x position\n",
    "y = 1 #inital y position\n",
    "z = 0 #inital z position\n",
    "vx = 31.3 #initial x velocity\n",
    "vy = 0 #initial y velocity\n",
    "vz = 0 #initial z velocity\n",
    "vtot = sqrt(vx**2 + vy**2 + vz**2) #total velocity\n",
    "\n",
    "#Function to generate new velocity at each interval\n",
    "def getNewV (vtot, Vx, Vy, Vz, xyz):\n",
    "    if xyz == 0:\n",
    "        V = Vx\n",
    "        V -= vtot*V*(0.0039 + (0.0058/(1 + exp((vtot - vd)/delta))))*dt\n",
    "    elif xyz == 1:\n",
    "        V = Vy\n",
    "        V -= (g*dt)\n",
    "    elif xyz == 2:\n",
    "        V = Vz\n",
    "        V += Snaughtm*omega*Vx*dt\n",
    "    return V;\n",
    "\n",
    "#Euler method to calculate x, y, and z values\n",
    "for i in range(1000):\n",
    "    xfeet = x*3.28084\n",
    "    yfeet = y*3.28084\n",
    "    zfeet = z*3.28084\n",
    "    xlist.append(xfeet)\n",
    "    ylist.append(yfeet)\n",
    "    zlist.append(zfeet)\n",
    "    x += (vx*dt)\n",
    "    y += (vy*dt)\n",
    "    z += (vz*dt)\n",
    "    vtot = sqrt(vx**2 + vy**2 + vz**2)\n",
    "    vx = getNewV(vtot, vx, vy, vz, 0)\n",
    "    vy = getNewV(vtot, vx, vy, vz, 1)\n",
    "    vz = getNewV(vtot, vx, vy, vz, 2)\n",
    "    if x >= 17:\n",
    "        break"
   ]
  },
  {
   "cell_type": "code",
   "execution_count": 55,
   "metadata": {},
   "outputs": [
    {
     "name": "stdout",
     "output_type": "stream",
     "text": [
      "Using matplotlib backend: Qt5Agg\n"
     ]
    }
   ],
   "source": [
    "#Creates a plot with both sets of data#\n",
    "%matplotlib\n",
    "plt.margins(0)\n",
    "plt.plot(xlist, ylist, 'k:', lw=1.5)\n",
    "plt.plot(xlist, zlist, 'k')\n",
    "plt.plot([0, 0], [-3, 3.5], 'k--', lw=1)\n",
    "plt.plot([60, 60], [-3, 3.5], 'k--', lw=1)\n",
    "plt.yticks(ticks = (-4,-2,0,2,4))\n",
    "plt.xticks(ticks = (0,20,40,60))\n",
    "plt.title(\"Sidearm curveball\")\n",
    "plt.xlabel(\"x (feet)\")\n",
    "plt.ylabel(\"y or z (feet)\")\n",
    "plt.annotate('home plate', xy=(59.5, -2.2), xytext=(50,-3),\n",
    "arrowprops=dict(arrowstyle = '->',shrinkA = 10,\n",
    "connectionstyle = 'arc3,rad=-0.1'),ha='center',va = 'top')\n",
    "plt.annotate('horizontal deflection (z)', xy=(28, 0.2), xytext=(23,-0.8),\n",
    "arrowprops=dict(arrowstyle = '->',shrinkA = 10,\n",
    "connectionstyle = 'arc3,rad=0.1'),ha='center',va = 'bottom')\n",
    "plt.annotate('vertical deflection (y)', xy=(31, 1.8), xytext=(35,2.9),\n",
    "arrowprops=dict(arrowstyle = '->',shrinkA = 10,\n",
    "connectionstyle\t= 'arc3,rad=-0.1'),ha='center',va = 'bottom')\n",
    "plt.annotate('pitcher', xy=(0.5,-1.8), xytext=(8,-3),\n",
    "arrowprops=dict(arrowstyle = '->',shrinkA = 10,\n",
    "connectionstyle = 'arc3,rad=0.1'),ha='center',va = 'top')\n",
    "plt.axis([-5,65,-4,4])\n",
    "plt.tick_params(direction = 'in', right = True, top = True)\n",
    "plt.show()"
   ]
  },
  {
   "cell_type": "code",
   "execution_count": null,
   "metadata": {},
   "outputs": [],
   "source": []
  }
 ],
 "metadata": {
  "kernelspec": {
   "display_name": "Python 3",
   "language": "python",
   "name": "python3"
  },
  "language_info": {
   "codemirror_mode": {
    "name": "ipython",
    "version": 3
   },
   "file_extension": ".py",
   "mimetype": "text/x-python",
   "name": "python",
   "nbconvert_exporter": "python",
   "pygments_lexer": "ipython3",
   "version": "3.7.4"
  }
 },
 "nbformat": 4,
 "nbformat_minor": 2
}
