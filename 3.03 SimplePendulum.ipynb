{
 "cells": [
  {
   "cell_type": "code",
   "execution_count": 1,
   "id": "1b5396c0",
   "metadata": {},
   "outputs": [
    {
     "name": "stdout",
     "output_type": "stream",
     "text": [
      "Using matplotlib backend: Qt5Agg\n"
     ]
    }
   ],
   "source": [
    "#Program to create Figure 3.3 from Giordano#\n",
    "\n",
    "import pandas as pd\n",
    "from matplotlib import pyplot as plt\n",
    "\n",
    "thetalist=[] #list of data from calculations#\n",
    "timelist=[] #list of data from calculations#\n",
    "\n",
    "#variables#\n",
    "length = 1\n",
    "time = 0\n",
    "timestep = 0.04\n",
    "theta = 0.2\n",
    "gravity = 9.8\n",
    "omega = 0\n",
    "\n",
    "#Euler-Cromer method for velocity without drag#\n",
    "for i in range(250):\n",
    "    omega -= (gravity/length)*theta*timestep\n",
    "    theta += omega*timestep\n",
    "    time += timestep\n",
    "    thetalist.append(theta) #adds data to a list#\n",
    "    timelist.append(time) #adds data to a list#\n",
    "\n",
    "#Creates a plot with both sets of data#\n",
    "%matplotlib\n",
    "fig = plt.gcf()\n",
    "fig.set_size_inches(5.9375, 5)\n",
    "plt.plot(timelist, thetalist, 'k-')\n",
    "plt.xlim(0,10)\n",
    "plt.ylim(-0.3,0.3)\n",
    "plt.yticks(ticks = (-0.3,-0.2,-0.1,0,0.1,0.2,0.3))\n",
    "plt.xticks(ticks = (0,2,4,6,8,10))\n",
    "plt.title(\"Simple Pendulum - Euler-Cromer method\")\n",
    "plt.xlabel(\"time (s)\")\n",
    "plt.ylabel(\"\\u03B8 (radians)\")\n",
    "plt.text(1.6, 0.22, \"Length = 1 m\", fontsize=13, horizontalalignment='left', verticalalignment='bottom')\n",
    "plt.text(4.8, 0.22, \"time step = 0.04 s\", fontsize=13, horizontalalignment='left', verticalalignment='bottom')\n",
    "plt.tick_params(direction = 'in', right = True, top = True)\n",
    "plt.show()"
   ]
  },
  {
   "cell_type": "code",
   "execution_count": null,
   "id": "2d4c7397",
   "metadata": {},
   "outputs": [],
   "source": []
  }
 ],
 "metadata": {
  "kernelspec": {
   "display_name": "Python 3",
   "language": "python",
   "name": "python3"
  },
  "language_info": {
   "codemirror_mode": {
    "name": "ipython",
    "version": 3
   },
   "file_extension": ".py",
   "mimetype": "text/x-python",
   "name": "python",
   "nbconvert_exporter": "python",
   "pygments_lexer": "ipython3",
   "version": "3.8.8"
  }
 },
 "nbformat": 4,
 "nbformat_minor": 5
}
